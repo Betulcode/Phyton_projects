{
 "cells": [
  {
   "cell_type": "code",
   "execution_count": 8,
   "metadata": {},
   "outputs": [
    {
     "name": "stdout",
     "output_type": "stream",
     "text": [
      "Are you a cigarette addict older than 75 years old? (Yes/No):no\n",
      "Do you have a severe chronic disease?(Yes/No):no\n",
      "Is your immune system too weak?(Yes/No):no\n",
      "You are not in risky group\n"
     ]
    }
   ],
   "source": [
    "#Covid 19 Assignment\n",
    "age=input(\"Are you a cigarette addict older than 75 years old? (Yes/No):\")\n",
    "if age!=\"yes\" or age!=\"YES\" or age!=\"Yes\":\n",
    "    age=False\n",
    "chronic=input(\"Do you have a severe chronic disease?(Yes/No):\")\n",
    "if chronic!=\"yes\" or chronic!=\"YES\" or chronic!=\"Yes\":\n",
    "    chronic=False\n",
    "immune=input(\"Is your immune system too weak?(Yes/No):\")\n",
    "if immune!=\"yes\" or immune!=\"YES\" or immune!=\"Yes\":\n",
    "    immune=False\n",
    "if age or chronic or immune:\n",
    "    print(\"You are in risky group\")\n",
    "else:\n",
    "    print(\"You are not in risky group\")"
   ]
  }
 ],
 "metadata": {
  "kernelspec": {
   "display_name": "Python 3",
   "language": "python",
   "name": "python3"
  },
  "language_info": {
   "codemirror_mode": {
    "name": "ipython",
    "version": 3
   },
   "file_extension": ".py",
   "mimetype": "text/x-python",
   "name": "python",
   "nbconvert_exporter": "python",
   "pygments_lexer": "ipython3",
   "version": "3.7.6"
  }
 },
 "nbformat": 4,
 "nbformat_minor": 4
}
