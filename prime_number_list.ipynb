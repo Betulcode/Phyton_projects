{
 "cells": [
  {
   "cell_type": "markdown",
   "metadata": {},
   "source": [
    "Task : Print the prime numbers which are between 1 to entered limit number (n)."
   ]
  },
  {
   "cell_type": "code",
   "execution_count": 12,
   "metadata": {},
   "outputs": [
    {
     "name": "stdout",
     "output_type": "stream",
     "text": [
      "Enter a number:40\n",
      "Prime numbers between 1 to 40:[2, 3, '5', '7', '11', '13', '17', '19', '23', '29', '31', '37']\n",
      "12\n"
     ]
    }
   ],
   "source": [
    "n=int(input(\"Enter a number:\"))\n",
    "liste=[2,3]\n",
    "\n",
    "if n>=10:\n",
    "    for i in range(3,10):\n",
    "        if i%2!=0 and i%3!=0 and i!=2:\n",
    "            p=str(i)\n",
    "            x=i+2\n",
    "            liste.append(p)\n",
    "        \n",
    "    for i in range(10,n+1):\n",
    "        if i%2!=0 and i%3!=0 and i%5!=0 and i%7!=0:\n",
    "            p=str(i)\n",
    "            x=i+2\n",
    "            liste.append(p)\n",
    "          \n",
    "print(\"Prime numbers between 1 to {}:{}\".format(n,liste))"
   ]
  }
 ],
 "metadata": {
  "kernelspec": {
   "display_name": "Python 3",
   "language": "python",
   "name": "python3"
  },
  "language_info": {
   "codemirror_mode": {
    "name": "ipython",
    "version": 3
   },
   "file_extension": ".py",
   "mimetype": "text/x-python",
   "name": "python",
   "nbconvert_exporter": "python",
   "pygments_lexer": "ipython3",
   "version": "3.7.6"
  }
 },
 "nbformat": 4,
 "nbformat_minor": 4
}
